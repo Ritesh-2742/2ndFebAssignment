{
 "cells": [
  {
   "cell_type": "markdown",
   "id": "476a03aa-3aee-47bc-bd27-e23e90a798b0",
   "metadata": {},
   "source": [
    "2. Write a python program to print the sum and product of the first 10 natural numbers using for\n",
    "and while loop"
   ]
  },
  {
   "cell_type": "code",
   "execution_count": 10,
   "id": "69f0ed92-6047-4c91-9fc0-c2ed7c1e7fd2",
   "metadata": {},
   "outputs": [
    {
     "name": "stdout",
     "output_type": "stream",
     "text": [
      " The sum and product of the first 10 natural numbers are 55 , 3628800\n"
     ]
    }
   ],
   "source": [
    "l=[1,2,3,4,5,6,7,8,9,10]\n",
    "sum=0\n",
    "product=1\n",
    "for i in l:\n",
    "    sum=sum+i\n",
    "    product=product*i\n",
    "    \n",
    "print(f\" The sum and product of the first 10 natural numbers are {sum} , {product}\")"
   ]
  },
  {
   "cell_type": "code",
   "execution_count": 9,
   "id": "ce4cdb1d-2d84-4653-82e4-50ec65bbdc66",
   "metadata": {},
   "outputs": [
    {
     "name": "stdout",
     "output_type": "stream",
     "text": [
      " The sum and product of the first 10 natural numbers are 55 , 3628800\n"
     ]
    }
   ],
   "source": [
    "sum=0\n",
    "product=1\n",
    "i=1\n",
    "while i<=10:\n",
    "    sum=sum+i\n",
    "    product=product*i\n",
    "    i=i+1\n",
    "print(f\" The sum and product of the first 10 natural numbers are {sum} , {product}\")"
   ]
  },
  {
   "cell_type": "markdown",
   "id": "01b4892b-a0d3-4ed9-b6c5-aaad5d2fce13",
   "metadata": {},
   "source": [
    "Q3. solution\n"
   ]
  },
  {
   "cell_type": "code",
   "execution_count": 11,
   "id": "682f28d3-c640-400b-b090-29516b2e2487",
   "metadata": {},
   "outputs": [
    {
     "name": "stdin",
     "output_type": "stream",
     "text": [
      "Enter the  units of electricity consumed in a month  310\n"
     ]
    },
    {
     "name": "stdout",
     "output_type": "stream",
     "text": [
      "Bill is = 2250.0\n"
     ]
    }
   ],
   "source": [
    "units = float(input(\"Enter the  units of electricity consumed in a month \"))\n",
    "if units<=100:\n",
    "    print(f\"Bill is ={4.5*100}\")\n",
    "elif units<=200:\n",
    "    print(f\"Bill is ={4.5*100+6*100}\")\n",
    "elif units<=300:\n",
    "    print(f\"Bill is ={4.5*100+6*100+10*100}\")\n",
    "else:\n",
    "    print(f\"Bill is = {4.5*100+6*100+10*100+(units-300)*20}\")\n",
    "          "
   ]
  },
  {
   "cell_type": "markdown",
   "id": "c74d4df4-4197-4308-bb79-f2556832ae20",
   "metadata": {},
   "source": [
    "Q.4\n",
    "Create a list of numbers from 1 to 100. Use for loop and while loop to calculate the cube of each\n",
    "number and if the cube of that number is divisible by 4 or 5 then append that number in a list and print\n",
    "that list."
   ]
  },
  {
   "cell_type": "code",
   "execution_count": 4,
   "id": "beb0ae58-58ed-4b93-b56d-0b6c333a0ca4",
   "metadata": {},
   "outputs": [
    {
     "name": "stdout",
     "output_type": "stream",
     "text": [
      "[2, 4, 5, 6, 8, 10, 12, 14, 15, 16, 18, 20, 22, 24, 25, 26, 28, 30, 32, 34, 35, 36, 38, 40, 42, 44, 45, 46, 48, 50, 52, 54, 55, 56, 58, 60, 62, 64, 65, 66, 68, 70, 72, 74, 75, 76, 78, 80, 82, 84, 85, 86, 88, 90, 92, 94, 95, 96, 98, 100]\n"
     ]
    }
   ],
   "source": [
    "l1=[]\n",
    "for i in range(1,101):\n",
    "    cube=i**3\n",
    "    if cube%4==0 or cube%5==0 :\n",
    "        l1.append(i)\n",
    "print(l1)"
   ]
  },
  {
   "cell_type": "code",
   "execution_count": 6,
   "id": "298c0557-4d69-4b59-a9de-c652cd51aa1d",
   "metadata": {},
   "outputs": [
    {
     "name": "stdout",
     "output_type": "stream",
     "text": [
      "[2, 4, 5, 6, 8, 10, 12, 14, 15, 16, 18, 20, 22, 24, 25, 26, 28, 30, 32, 34, 35, 36, 38, 40, 42, 44, 45, 46, 48, 50, 52, 54, 55, 56, 58, 60, 62, 64, 65, 66, 68, 70, 72, 74, 75, 76, 78, 80, 82, 84, 85, 86, 88, 90, 92, 94, 95, 96, 98, 100]\n"
     ]
    }
   ],
   "source": [
    "new_list=[]\n",
    "num=1\n",
    "while num<=100:\n",
    "    cube = num**3\n",
    "    if cube%4==0 or cube%5==0:\n",
    "        new_list.append(num)\n",
    "    num=num+1\n",
    "print(new_list)"
   ]
  },
  {
   "cell_type": "markdown",
   "id": "b77615ba-112d-448b-9005-361bb7e0f913",
   "metadata": {},
   "source": [
    "Q5. Write a program to filter count vowels in the below-given string.\n",
    "\n",
    "string = \"I want to become a data scientist\""
   ]
  },
  {
   "cell_type": "code",
   "execution_count": 8,
   "id": "1cc6d553-63af-4a38-a7ba-d42ace5a7943",
   "metadata": {},
   "outputs": [
    {
     "name": "stdout",
     "output_type": "stream",
     "text": [
      "12\n"
     ]
    }
   ],
   "source": [
    "s=\"I want to become a data scientist\"\n",
    "n=len(s)\n",
    "count=0\n",
    "for i in range(0,n):\n",
    "    if s[i].upper() =='A' or s[i].upper()=='I' or s[i].upper()=='E' or s[i].upper()=='O' or s[i].upper()=='U':\n",
    "        count=count+1\n",
    "print(count)"
   ]
  },
  {
   "cell_type": "markdown",
   "id": "47c8ba42-2076-4286-b246-22701e7a9d49",
   "metadata": {},
   "source": [
    "Q1.Explain with an example each when to use a for loop and a while loop."
   ]
  },
  {
   "cell_type": "markdown",
   "id": "a44c1256-9138-452e-9347-4fa74a131447",
   "metadata": {},
   "source": [
    "use a for loop when you know the number of iterations beforehand, such as iterating over elements in a sequence, and use a while loop when you need to repeat a block of code until a certain condition is met, and the number of iterations is not predetermined."
   ]
  },
  {
   "cell_type": "code",
   "execution_count": null,
   "id": "2a883169-3a2b-4289-b03e-843279965e22",
   "metadata": {},
   "outputs": [],
   "source": []
  }
 ],
 "metadata": {
  "kernelspec": {
   "display_name": "Python 3 (ipykernel)",
   "language": "python",
   "name": "python3"
  },
  "language_info": {
   "codemirror_mode": {
    "name": "ipython",
    "version": 3
   },
   "file_extension": ".py",
   "mimetype": "text/x-python",
   "name": "python",
   "nbconvert_exporter": "python",
   "pygments_lexer": "ipython3",
   "version": "3.10.8"
  }
 },
 "nbformat": 4,
 "nbformat_minor": 5
}
